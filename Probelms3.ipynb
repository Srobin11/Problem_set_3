{
 "cells": [
  {
   "cell_type": "code",
   "execution_count": 35,
   "metadata": {},
   "outputs": [
    {
     "name": "stdout",
     "output_type": "stream",
     "text": [
      "The highest water level of 6.65 was reached at 2018-10-10 18:06\n"
     ]
    }
   ],
   "source": [
    "### Problem 1\n",
    "#############\n",
    "\n",
    "\n",
    "import csv\n",
    "\n",
    "fhand = open('/blue/bsc4452/share/Class_Files/data/CO-OPS__8729108__wl.csv')\n",
    "\n",
    "\n",
    "height = 0\n",
    "time = 0\n",
    "with fhand as csv_file:\n",
    "    content = csv.reader(csv_file, delimiter=',')\n",
    "    counts = 0\n",
    "    for row in content:\n",
    "        if line_count > 1:  #to disregard header\n",
    "            try: #missing data\n",
    "                if float(row[1]) > height:\n",
    "                    height = float(row[1])  \n",
    "                    time = row[0] \n",
    "            except: \n",
    "                continue       \n",
    "        counts += 1 \n",
    "print(f'The highest water level of {height:.3} was reached at {time}')        "
   ]
  },
  {
   "cell_type": "code",
   "execution_count": 70,
   "metadata": {},
   "outputs": [
    {
     "name": "stdout",
     "output_type": "stream",
     "text": [
      "The average water height was 2.97\n",
      "A minimum water depth of 1.62 was reached at 2018-10-11 15:36\n",
      "A maximum water depth of 6.65 was reached at 2018-10-10 18:06\n"
     ]
    }
   ],
   "source": [
    "### Problem 2\n",
    "#############\n",
    "\n",
    "import csv\n",
    "\n",
    "fhand = open('/blue/bsc4452/share/Class_Files/data/CO-OPS__8729108__wl.csv')\n",
    "\n",
    "\n",
    "water_height = list()\n",
    "\n",
    "max_water = 0\n",
    "min_water = 50\n",
    "counts = 0\n",
    "max_time = 0\n",
    "min_time = 0\n",
    "\n",
    "with fhand as csv_file:\n",
    "    data = csv.reader(csv_file, delimiter=',')\n",
    "    counts = 0\n",
    "    for row in data:\n",
    "        if counts > 1:  #due to header                     \n",
    "            try: \n",
    "                water_height.append(float(row[1])) \n",
    "                count += 1 \n",
    "                if float(row[1]) > max_water:\n",
    "                    max_water = float(row[1]) \n",
    "                    max_time = row[0]\n",
    "                if float(row[1]) < min_water:\n",
    "                    min_water = float(row[1])\n",
    "                    min_time = row[0]                            \n",
    "            except: \n",
    "                continue       \n",
    "        counts += 1 \n",
    "average = sum(water_height)/counts        \n",
    "print (f'The average water height was {average:.3}')        \n",
    "print(f'A minimum water depth of {min_water:.3} was reached at {min_time}')\n",
    "print(f'A maximum water depth of {max_water:.3} was reached at {max_time}') \n"
   ]
  },
  {
   "cell_type": "code",
   "execution_count": 32,
   "metadata": {},
   "outputs": [
    {
     "name": "stdout",
     "output_type": "stream",
     "text": [
      "The fastest increase in water height, 0.64, occured on 2018-10-10 17:42\n"
     ]
    }
   ],
   "source": [
    "### Problem 3\n",
    "#############\n",
    "\n",
    "import csv\n",
    "\n",
    "fhand = open('/blue/bsc4452/share/Class_Files/data/CO-OPS__8729108__wl.csv')\n",
    "\n",
    "\n",
    "max_change = 0\n",
    "max_change_t = 0\n",
    "with fhand as csv_file:\n",
    "    data = csv.reader(csv_file, delimiter=',')\n",
    "    counts = 0\n",
    "    height = 0\n",
    "    for row in data:\n",
    "        if counts > 1:  #header\n",
    "            try:\n",
    "                if counts == 2:\n",
    "                    height= float(row[1])\n",
    "                else:\n",
    "                    change = float(row[1]) - height\n",
    "                    height = float(row[1])\n",
    "                    if change > max_change: \n",
    "                        max_change = change\n",
    "                        max_change_t = row[0]\n",
    "                 \n",
    "            except: \n",
    "                continue \n",
    "        counts += 1\n",
    "print (f'The fastest increase in water height, {max_change:.3}, occured on {max_change_t}')\n"
   ]
  },
  {
   "cell_type": "code",
   "execution_count": 69,
   "metadata": {},
   "outputs": [
    {
     "name": "stdout",
     "output_type": "stream",
     "text": [
      "On 2018-10-10 17:30 the water height increased >0.25, total height recorded was 0.3019999999999996\n",
      "On 2018-10-10 17:42 the water surpassed a height of 5.0, total height recorded was 5.591\n",
      "On 2018-10-10 17:42 the water height increased >0.25, total height recorded was 0.6400000000000006\n",
      "On 2018-10-10 17:48 the water surpassed a height of 5.0, total height recorded was 5.958\n",
      "On 2018-10-10 17:54 the water surpassed a height of 5.0, total height recorded was 6.404\n",
      "On 2018-10-10 18:00 the water surpassed a height of 5.0, total height recorded was 6.575\n",
      "On 2018-10-10 18:06 the water surpassed a height of 5.0, total height recorded was 6.647\n",
      "On 2018-10-10 18:12 the water surpassed a height of 5.0, total height recorded was 6.503\n",
      "No data = 2018-10-10 18:18\n",
      "On 2018-10-10 18:24 the water surpassed a height of 5.0, total height recorded was 6.309\n",
      "On 2018-10-10 18:30 the water surpassed a height of 5.0, total height recorded was 6.024\n",
      "On 2018-10-10 18:36 the water surpassed a height of 5.0, total height recorded was 5.725\n",
      "On 2018-10-10 18:42 the water surpassed a height of 5.0, total height recorded was 5.699\n",
      "On 2018-10-10 18:48 the water surpassed a height of 5.0, total height recorded was 5.449\n",
      "On 2018-10-10 18:54 the water surpassed a height of 5.0, total height recorded was 5.338\n",
      "On 2018-10-10 19:00 the water surpassed a height of 5.0, total height recorded was 5.22\n"
     ]
    }
   ],
   "source": [
    "### Problem 4\n",
    "#############\n",
    "\n",
    "import csv\n",
    "\n",
    "fhand = open('/blue/bsc4452/share/Class_Files/data/CO-OPS__8729108__wl.csv')\n",
    "\n",
    "height = 0\n",
    "max_time  = 0\n",
    "max_change = 0\n",
    "max_change_t = 0\n",
    "\n",
    "\n",
    "with fhand as csv_file:\n",
    "    data = csv.reader(csv_file, delimiter=',')\n",
    "    counts = 0\n",
    "    for row in data:\n",
    "        if counts > 1:  \n",
    "            try: \n",
    "                if counts == 2:\n",
    "                    height = float(row[1])\n",
    "                else:\n",
    "                    change = float(row[1]) - height\n",
    "                    height = float(row[1])\n",
    "                    if height > 5.0:\n",
    "                        max_time = row[0]\n",
    "                        print(f'On {max_time} the water surpassed a height of 5.0, total height recorded was {height}') \n",
    "                    if change > max_change: \n",
    "                        max_change = change\n",
    "                        if max_change > 0.25:\n",
    "                            max_change_t = row[0]\n",
    "                            print (f'On {max_change_t} the water height increased >0.25, total height recorded was {max_change}')\n",
    "            except: \n",
    "                 print(f'No data = {row[0]}')\n",
    "                 continue \n",
    "\n",
    "        counts += 1\n"
   ]
  },
  {
   "cell_type": "code",
   "execution_count": null,
   "metadata": {},
   "outputs": [],
   "source": []
  }
 ],
 "metadata": {
  "kernelspec": {
   "display_name": "Python 3.8 (basic)",
   "language": "python",
   "name": "python3"
  },
  "language_info": {
   "codemirror_mode": {
    "name": "ipython",
    "version": 3
   },
   "file_extension": ".py",
   "mimetype": "text/x-python",
   "name": "python",
   "nbconvert_exporter": "python",
   "pygments_lexer": "ipython3",
   "version": "3.8.1"
  }
 },
 "nbformat": 4,
 "nbformat_minor": 4
}
